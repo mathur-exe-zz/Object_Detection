{
  "nbformat": 4,
  "nbformat_minor": 0,
  "metadata": {
    "colab": {
      "name": "darknet.ipynb",
      "provenance": []
    },
    "kernelspec": {
      "name": "python3",
      "display_name": "Python 3"
    },
    "language_info": {
      "name": "python"
    }
  },
  "cells": [
    {
      "cell_type": "code",
      "execution_count": null,
      "metadata": {
        "id": "QF6bbCxdqaB8"
      },
      "outputs": [],
      "source": [
        "from __future__ import division \n",
        "import numpy as np\n",
        "\n",
        "import torch\n",
        "import torch.nn as nn\n",
        "import torch.nn.functional as F\n",
        "from torch.autograd import Variable"
      ]
    },
    {
      "cell_type": "code",
      "source": [
        "def parse_cfg(cfgfile):\n",
        "  \"\"\"\n",
        "  - Take a config files adn returns a list of block. \n",
        "  - Each block describes a block in nn that need to be built\n",
        "  - Block is in form of a dictionary \n",
        "  \n",
        "  The attribute of blocks and their values are stores as key-val pairs in dict\n",
        "  \n",
        "  \"\"\"\n",
        "\n",
        "  # Saving the content of the cfg file in string format\n",
        "  file = open(cfgfile, 'r')\n",
        "  lines = file.read().split('\\n')                   # store the lines in a list \n",
        "  lines = [x for x in lines if len(x) > 0]          # ignoreing empty lines\n",
        "  lines = [x for x in lines if x[0] != '#']         # get rid of comments\n",
        "  lines = [x.rstrip().lstrip() for x in lines]      # get rid of whitespce to the right and left of word\n",
        "\n",
        "  #looping over the resultant lines to bet blocks\n",
        "  block = {}\n",
        "  blocks = []\n",
        "  for line in lines:\n",
        "    if line[0] == '[':                      # '[' this marks the start of a new block\n",
        "      if len(block) != 0:                   # !block.empty  --> block is storing some values \n",
        "        blocks.append(block)                # \n",
        "        block = {}\n",
        "      block['type'] = line[1:-1]\n",
        "    else:\n",
        "      key, value = line.split('=')\n",
        "      block[key.rstrip()] = value.lstrip()\n",
        "  blocks.append(block)\n",
        "\n",
        "  return blocks\n",
        "\n",
        "\n"
      ],
      "metadata": {
        "id": "7ot0tqLVfMFj"
      },
      "execution_count": null,
      "outputs": []
    },
    {
      "cell_type": "code",
      "source": [
        ""
      ],
      "metadata": {
        "id": "EvNBSdZsflaL"
      },
      "execution_count": null,
      "outputs": []
    }
  ]
}