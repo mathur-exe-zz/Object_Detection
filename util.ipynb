{
  "nbformat": 4,
  "nbformat_minor": 0,
  "metadata": {
    "colab": {
      "name": "util.ipynb",
      "provenance": [],
      "collapsed_sections": []
    },
    "kernelspec": {
      "name": "python3",
      "display_name": "Python 3"
    },
    "language_info": {
      "name": "python"
    }
  },
  "cells": [
    {
      "cell_type": "code",
      "execution_count": 1,
      "metadata": {
        "id": "QoC75rO1xo5n"
      },
      "outputs": [],
      "source": [
        "from __future__ import division\n",
        "\n",
        "import torch \n",
        "import torch.nn as nn\n",
        "import torch.nn.functional as F\n",
        "from torch.autograd import Variable\n",
        "import numpy as np\n",
        "import cv2"
      ]
    },
    {
      "cell_type": "code",
      "source": [
        "def predict_transform(prediction, inp_dim, anchors, num_classes, CUDA = True):\n",
        "  \"\"\"\n",
        "  prediction: our ouput\n",
        "  inp_dim: input image dimension\n",
        "\n",
        "  Purpose: Takes an detection feature map and turns it into 2D Tensor\n",
        "  \"\"\"\n",
        "\n"
      ],
      "metadata": {
        "id": "wnf7eb_XyM03"
      },
      "execution_count": null,
      "outputs": []
    }
  ]
}